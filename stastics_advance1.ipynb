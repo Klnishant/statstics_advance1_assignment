{
 "cells": [
  {
   "cell_type": "markdown",
   "id": "65865fdc-3c15-4ec6-90ea-8f6eaa2cf945",
   "metadata": {},
   "source": [
    "Q1. What is the Probability density function?"
   ]
  },
  {
   "cell_type": "markdown",
   "id": "3fcce813-d40b-4408-aee0-7a54b86072cb",
   "metadata": {},
   "source": [
    "Ans--> The Probability density function (PDF) is a function that describes the relative likelihood for a continuous random variable to take on a given value. In other words, the PDF provides the probability that a random variable falls within a particular range of values. It is represented graphically as a curve, with the area under the curve between two points representing the probability of the random variable falling within that range. The total area under the curve equals 1, indicating that the probability of the random variable taking on any value within its possible range is equal to 1."
   ]
  },
  {
   "cell_type": "markdown",
   "id": "5421d934-2832-4a03-ba1c-5793fafbcd2e",
   "metadata": {},
   "source": [
    "Q2. What are the types of Probability distribution?"
   ]
  },
  {
   "cell_type": "markdown",
   "id": "0a50e6b1-7a50-41ee-8589-6a51b1767a10",
   "metadata": {},
   "source": [
    "Ans--> There are several types of probability distributions. Some of the commonly used ones are:\n",
    "\n",
    "1.Bernoulli Distribution: A discrete probability distribution that has only two possible outcomes, usually referred to as success and failure.\n",
    "\n",
    "2.Binomial Distribution: A discrete probability distribution that describes the number of successes in a fixed number of independent trials, each with the same probability of success.\n",
    "\n",
    "3.Poisson Distribution: A discrete probability distribution that describes the number of times an event occurs in a fixed interval of time or space.\n",
    "\n",
    "4.Uniform Distribution: A continuous probability distribution that assigns equal probability to all values within a specified range.\n",
    "\n",
    "5.Normal Distribution: A continuous probability distribution that is commonly used to model real-world phenomena such as heights, weights, and test scores. The bell-shaped curve of a normal distribution is characterized by its mean and standard deviation.\n",
    "\n",
    "6.Exponential Distribution: A continuous probability distribution that describes the time between events occurring in a Poisson process.\n",
    "\n",
    "7.Gamma Distribution: A continuous probability distribution that is used to model the sum of exponentially distributed random variables.\n",
    "\n",
    "8.Beta Distribution: A continuous probability distribution that describes the probability distribution of probabilities, often used in Bayesian statistics."
   ]
  },
  {
   "cell_type": "markdown",
   "id": "d66495e4-056c-4892-9d4a-521f5d57e2e1",
   "metadata": {},
   "source": [
    "Q3. Write a Python function to calculate the probability density function of a normal distribution with\n",
    "given mean and standard deviation at a given point."
   ]
  },
  {
   "cell_type": "markdown",
   "id": "238024b9-727b-4edd-ad50-0e4f41a39118",
   "metadata": {},
   "source": [
    "Ans--> Here's a Python function to calculate the probability density function (PDF) of a normal distribution at a given point:"
   ]
  },
  {
   "cell_type": "code",
   "execution_count": 1,
   "id": "9157e8c1-5ed6-488d-aee0-5c9c6fbe465e",
   "metadata": {},
   "outputs": [],
   "source": [
    "import math\n",
    "\n",
    "def normal_pdf(x, mu, sigma):\n",
    "    \"\"\"\n",
    "    Returns the PDF of a normal distribution with mean mu and standard deviation sigma at a given point x.\n",
    "    \"\"\"\n",
    "    return (1 / (sigma * math.sqrt(2 * math.pi))) * math.exp(-0.5 * ((x - mu) / sigma) ** 2)\n"
   ]
  },
  {
   "cell_type": "markdown",
   "id": "429641f6-cc99-4866-a969-7fad331efe7b",
   "metadata": {},
   "source": [
    "The function takes three arguments:\n",
    "\n",
    "x: The point at which to evaluate the PDF.\n",
    "mu: The mean of the normal distribution.\n",
    "sigma: The standard deviation of the normal distribution.\n",
    "The function returns the PDF of the normal distribution at the given point x."
   ]
  },
  {
   "cell_type": "markdown",
   "id": "7bc48605-abe5-4c77-a396-d8bada22085d",
   "metadata": {},
   "source": [
    "Q4. What are the properties of Binomial distribution? Give two examples of events where binomial\n",
    "distribution can be applied."
   ]
  },
  {
   "cell_type": "markdown",
   "id": "20deeb46-b521-4ff0-a1c8-b51a03e261cc",
   "metadata": {},
   "source": [
    "Ans--> Binomial distribution is a probability distribution that represents the probability of a binary event (i.e., an event that has only two possible outcomes) occurring in a fixed number of independent trials. Some of the properties of Binomial distribution are:\n",
    "\n",
    "The experiment consists of a fixed number of identical trials.\n",
    "The trials are independent.\n",
    "The outcome of each trial is either a success or a failure.\n",
    "The probability of success is the same for each trial.\n",
    "The random variable X, representing the number of successes in n trials, follows a Binomial distribution with parameters n and p.\n",
    "Two examples where binomial distribution can be applied are:\n",
    "\n",
    "A coin toss: In a coin toss, the two possible outcomes are heads or tails. If we toss a fair coin (with probability of success 0.5) 10 times, we can calculate the probability of getting exactly 5 heads using the Binomial distribution.\n",
    "\n",
    "Manufacturing defects: Suppose a manufacturing process produces a certain percentage of defective items. If we randomly select 20 items from the production line and count the number of defective items, the probability of getting a certain number of defective items can be calculated using the Binomial distribution."
   ]
  },
  {
   "cell_type": "markdown",
   "id": "1735d21b-30ff-46e3-91c1-445c3f4e7bed",
   "metadata": {},
   "source": [
    "Q5. Generate a random sample of size 1000 from a binomial distribution with probability of success 0.4\n",
    "and plot a histogram of the results using matplotlib."
   ]
  },
  {
   "cell_type": "code",
   "execution_count": 2,
   "id": "3582eb4f-5702-4d36-8e49-bf56fcf1604c",
   "metadata": {},
   "outputs": [
    {
     "data": {
      "image/png": "[encoded data removed]",
      "text/plain": [
       "<Figure size 640x480 with 1 Axes>"
      ]
     },
     "metadata": {},
     "output_type": "display_data"
    }
   ],
   "source": [
    "import numpy as np\n",
    "import matplotlib.pyplot as plt\n",
    "\n",
    "# Set the parameters\n",
    "n = 10  # number of trials\n",
    "p = 0.4  # probability of success\n",
    "\n",
    "# Generate a random sample\n",
    "sample = np.random.binomial(n, p, size=1000)\n",
    "\n",
    "# Plot a histogram of the results\n",
    "plt.hist(sample, bins=range(n+2), align='left', density=True)\n",
    "plt.xlabel('Number of successes')\n",
    "plt.ylabel('Probability')\n",
    "plt.title(f'Binomial Distribution (n={n}, p={p})')\n",
    "plt.show()\n"
   ]
  },
  {
   "cell_type": "markdown",
   "id": "f91e20b9-51ec-4e68-8c2e-d3c945ae6f7a",
   "metadata": {},
   "source": [
    "Q6. Write a Python function to calculate the cumulative distribution function of a Poisson distribution\n",
    "with given mean at a given point."
   ]
  },
  {
   "cell_type": "code",
   "execution_count": 3,
   "id": "4ae49625-869b-4971-9122-44a774be6432",
   "metadata": {},
   "outputs": [
    {
     "name": "stdout",
     "output_type": "stream",
     "text": [
      "0.8152632445237721\n"
     ]
    }
   ],
   "source": [
    "import math\n",
    "\n",
    "def poisson_cdf(mean, k):\n",
    "    cdf = 0.0\n",
    "    for i in range(k + 1):\n",
    "        cdf += math.exp(-mean) * (mean ** i) / math.factorial(i)\n",
    "    return cdf\n",
    "cdf = poisson_cdf(3, 4)\n",
    "print(cdf)"
   ]
  },
  {
   "cell_type": "markdown",
   "id": "a7d35b1b-725b-4805-b121-36a064f213e6",
   "metadata": {},
   "source": [
    "Q7. How Binomial distribution different from Poisson distribution?"
   ]
  },
  {
   "cell_type": "markdown",
   "id": "29ea1e98-5b55-416c-af4e-94e17d64b65d",
   "metadata": {},
   "source": [
    "Ans--> Binomial and Poisson distributions are both probability distributions used to model events with a certain probability of occurrence. The key difference between the two distributions is that the binomial distribution models the number of successes in a fixed number of trials, while the Poisson distribution models the number of occurrences in a fixed interval of time or space.\n",
    "\n",
    "The key properties of binomial distribution are:\n",
    "\n",
    "The number of trials is fixed\n",
    "The trials are independent\n",
    "The probability of success is constant for each trial\n",
    "Each trial has only two possible outcomes, success or failure\n",
    "The distribution is discrete\n",
    "On the other hand, the key properties of Poisson distribution are:\n",
    "\n",
    "The number of occurrences in a fixed interval of time or space is modeled\n",
    "The occurrences are independent\n",
    "The rate of occurrence is constant\n",
    "The distribution is discrete\n",
    "In summary, binomial distribution is used to model the number of successes in a fixed number of trials, while Poisson distribution is used to model the number of occurrences in a fixed interval of time or space."
   ]
  },
  {
   "cell_type": "markdown",
   "id": "b86252d5-cda0-41b5-8a01-42e1330de71c",
   "metadata": {},
   "source": [
    "Q8. Generate a random sample of size 1000 from a Poisson distribution with mean 5 and calculate the\n",
    "sample mean and variance."
   ]
  },
  {
   "cell_type": "code",
   "execution_count": 4,
   "id": "29e3ea11-0fd3-4f16-bef9-02247f63b91f",
   "metadata": {},
   "outputs": [
    {
     "name": "stdout",
     "output_type": "stream",
     "text": [
      "Sample mean: 4.919\n",
      "Sample variance: 5.030439\n"
     ]
    }
   ],
   "source": [
    "import numpy as np\n",
    "\n",
    "# set the random seed for reproducibility\n",
    "np.random.seed(123)\n",
    "\n",
    "# generate a random sample of size 1000 from a Poisson distribution with mean 5\n",
    "sample = np.random.poisson(5, size=1000)\n",
    "\n",
    "# calculate the sample mean and variance\n",
    "sample_mean = np.mean(sample)\n",
    "sample_var = np.var(sample)\n",
    "\n",
    "print(\"Sample mean:\", sample_mean)\n",
    "print(\"Sample variance:\", sample_var)\n"
   ]
  },
  {
   "cell_type": "markdown",
   "id": "fd0587c4-93df-4982-946a-e0ee4ba2cbe2",
   "metadata": {},
   "source": [
    "Q9. How mean and variance are related in Binomial distribution and Poisson distribution?"
   ]
  },
  {
   "cell_type": "markdown",
   "id": "9510295f-a0e8-4f72-953c-7f8ff79f7307",
   "metadata": {},
   "source": [
    "Ans--> In a binomial distribution, the mean and variance are related by the formula:\n",
    "\n",
    "mean = n * p\n",
    "\n",
    "variance = n * p * (1 - p)\n",
    "\n",
    "where n is the number of trials and p is the probability of success in each trial.\n",
    "\n",
    "In a Poisson distribution, the mean and variance are equal, which means:\n",
    "\n",
    "mean = variance = lambda\n",
    "\n",
    "where lambda is the rate parameter of the Poisson distribution.\n",
    "\n",
    "Therefore, the relationship between mean and variance is different in these two distributions. In binomial distribution, the variance depends on both the number of trials and the probability of success, while in Poisson distribution, the variance is solely determined by the mean or rate parameter."
   ]
  },
  {
   "cell_type": "markdown",
   "id": "85a1b539-3a77-4e46-bf75-7cea5155bbf5",
   "metadata": {},
   "source": [
    "Q10. In normal distribution with respect to mean position, where does the least frequent data appear?"
   ]
  },
  {
   "cell_type": "markdown",
   "id": "cf5724a1-3911-473d-8981-c312cd1dcf9b",
   "metadata": {},
   "source": [
    "Ans--> In a normal distribution, the least frequent data appears in the tails of the distribution, which are the regions that are farthest from the mean. The normal distribution is symmetric around its mean, and as you move away from the mean in either direction, the probability density decreases rapidly. Therefore, data points that are far away from the mean are much less likely to occur than data points that are close to the mean."
   ]
  },
  {
   "cell_type": "code",
   "execution_count": null,
   "id": "e5394ebd-066d-4624-9142-16b166e8c84e",
   "metadata": {},
   "outputs": [],
   "source": []
  }
 ],
 "metadata": {
  "kernelspec": {
   "display_name": "Python 3 (ipykernel)",
   "language": "python",
   "name": "python3"
  },
  "language_info": {
   "codemirror_mode": {
    "name": "ipython",
    "version": 3
   },
   "file_extension": ".py",
   "mimetype": "text/x-python",
   "name": "python",
   "nbconvert_exporter": "python",
   "pygments_lexer": "ipython3",
   "version": "3.10.8"
  }
 },
 "nbformat": 4,
 "nbformat_minor": 5
}
